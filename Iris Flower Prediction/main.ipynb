{
 "cells": [
  {
   "cell_type": "code",
   "execution_count": 1,
   "id": "bfa9af2b-b7c6-4c2e-a050-6a229d7bca45",
   "metadata": {},
   "outputs": [],
   "source": [
    "from __future__ import absolute_import, division, print_function, unicode_literals\n",
    "import pandas as pd\n",
    "import tensorflow as tf"
   ]
  },
  {
   "cell_type": "code",
   "execution_count": 2,
   "id": "33e3517c-3ae8-4a0e-8c86-57ff90efb5a9",
   "metadata": {},
   "outputs": [],
   "source": [
    "CSV_COLUMN_NAMES = ['SepalLength', 'SepalWidth', 'PetalLength', 'PetalWidth', 'Species']\n",
    "SPECIES = ['Setosa', 'Versicolor', 'Virginica']"
   ]
  },
  {
   "cell_type": "code",
   "execution_count": 5,
   "id": "96148de6-2698-493d-9ed1-b7b3677f3f55",
   "metadata": {},
   "outputs": [
    {
     "name": "stdout",
     "output_type": "stream",
     "text": [
      "Downloading data from https://storage.googleapis.com/download.tensorflow.org/data/iris_training.csv\n",
      "2194/2194 [==============================] - 0s 0s/step\n",
      "Downloading data from https://storage.googleapis.com/download.tensorflow.org/data/iris_test.csv\n",
      "573/573 [==============================] - 0s 0s/step\n"
     ]
    }
   ],
   "source": [
    "train_path = tf.keras.utils.get_file(\n",
    "    \"iris_training.csv\", \"https://storage.googleapis.com/download.tensorflow.org/data/iris_training.csv\")\n",
    "test_path = tf.keras.utils.get_file(\n",
    "    \"iris_test.csv\", \"https://storage.googleapis.com/download.tensorflow.org/data/iris_test.csv\")\n",
    "\n",
    "train = pd.read_csv(train_path, names=CSV_COLUMN_NAMES, header=0)\n",
    "test = pd.read_csv(test_path, names=CSV_COLUMN_NAMES, header=0)"
   ]
  },
  {
   "cell_type": "code",
   "execution_count": 7,
   "id": "673c6241-1742-45a0-be6a-aaba250d34f5",
   "metadata": {},
   "outputs": [
    {
     "data": {
      "text/html": [
       "<div>\n",
       "<style scoped>\n",
       "    .dataframe tbody tr th:only-of-type {\n",
       "        vertical-align: middle;\n",
       "    }\n",
       "\n",
       "    .dataframe tbody tr th {\n",
       "        vertical-align: top;\n",
       "    }\n",
       "\n",
       "    .dataframe thead th {\n",
       "        text-align: right;\n",
       "    }\n",
       "</style>\n",
       "<table border=\"1\" class=\"dataframe\">\n",
       "  <thead>\n",
       "    <tr style=\"text-align: right;\">\n",
       "      <th></th>\n",
       "      <th>SepalLength</th>\n",
       "      <th>SepalWidth</th>\n",
       "      <th>PetalLength</th>\n",
       "      <th>PetalWidth</th>\n",
       "      <th>Species</th>\n",
       "    </tr>\n",
       "  </thead>\n",
       "  <tbody>\n",
       "    <tr>\n",
       "      <th>0</th>\n",
       "      <td>6.4</td>\n",
       "      <td>2.8</td>\n",
       "      <td>5.6</td>\n",
       "      <td>2.2</td>\n",
       "      <td>2</td>\n",
       "    </tr>\n",
       "    <tr>\n",
       "      <th>1</th>\n",
       "      <td>5.0</td>\n",
       "      <td>2.3</td>\n",
       "      <td>3.3</td>\n",
       "      <td>1.0</td>\n",
       "      <td>1</td>\n",
       "    </tr>\n",
       "    <tr>\n",
       "      <th>2</th>\n",
       "      <td>4.9</td>\n",
       "      <td>2.5</td>\n",
       "      <td>4.5</td>\n",
       "      <td>1.7</td>\n",
       "      <td>2</td>\n",
       "    </tr>\n",
       "    <tr>\n",
       "      <th>3</th>\n",
       "      <td>4.9</td>\n",
       "      <td>3.1</td>\n",
       "      <td>1.5</td>\n",
       "      <td>0.1</td>\n",
       "      <td>0</td>\n",
       "    </tr>\n",
       "    <tr>\n",
       "      <th>4</th>\n",
       "      <td>5.7</td>\n",
       "      <td>3.8</td>\n",
       "      <td>1.7</td>\n",
       "      <td>0.3</td>\n",
       "      <td>0</td>\n",
       "    </tr>\n",
       "  </tbody>\n",
       "</table>\n",
       "</div>"
      ],
      "text/plain": [
       "   SepalLength  SepalWidth  PetalLength  PetalWidth  Species\n",
       "0          6.4         2.8          5.6         2.2        2\n",
       "1          5.0         2.3          3.3         1.0        1\n",
       "2          4.9         2.5          4.5         1.7        2\n",
       "3          4.9         3.1          1.5         0.1        0\n",
       "4          5.7         3.8          1.7         0.3        0"
      ]
     },
     "execution_count": 7,
     "metadata": {},
     "output_type": "execute_result"
    }
   ],
   "source": [
    "train.head()"
   ]
  },
  {
   "cell_type": "code",
   "execution_count": 9,
   "id": "e360cc55-a7d7-480d-8e41-ad765202b32d",
   "metadata": {},
   "outputs": [
    {
     "data": {
      "text/html": [
       "<div>\n",
       "<style scoped>\n",
       "    .dataframe tbody tr th:only-of-type {\n",
       "        vertical-align: middle;\n",
       "    }\n",
       "\n",
       "    .dataframe tbody tr th {\n",
       "        vertical-align: top;\n",
       "    }\n",
       "\n",
       "    .dataframe thead th {\n",
       "        text-align: right;\n",
       "    }\n",
       "</style>\n",
       "<table border=\"1\" class=\"dataframe\">\n",
       "  <thead>\n",
       "    <tr style=\"text-align: right;\">\n",
       "      <th></th>\n",
       "      <th>SepalLength</th>\n",
       "      <th>SepalWidth</th>\n",
       "      <th>PetalLength</th>\n",
       "      <th>PetalWidth</th>\n",
       "    </tr>\n",
       "  </thead>\n",
       "  <tbody>\n",
       "    <tr>\n",
       "      <th>0</th>\n",
       "      <td>6.4</td>\n",
       "      <td>2.8</td>\n",
       "      <td>5.6</td>\n",
       "      <td>2.2</td>\n",
       "    </tr>\n",
       "    <tr>\n",
       "      <th>1</th>\n",
       "      <td>5.0</td>\n",
       "      <td>2.3</td>\n",
       "      <td>3.3</td>\n",
       "      <td>1.0</td>\n",
       "    </tr>\n",
       "    <tr>\n",
       "      <th>2</th>\n",
       "      <td>4.9</td>\n",
       "      <td>2.5</td>\n",
       "      <td>4.5</td>\n",
       "      <td>1.7</td>\n",
       "    </tr>\n",
       "    <tr>\n",
       "      <th>3</th>\n",
       "      <td>4.9</td>\n",
       "      <td>3.1</td>\n",
       "      <td>1.5</td>\n",
       "      <td>0.1</td>\n",
       "    </tr>\n",
       "    <tr>\n",
       "      <th>4</th>\n",
       "      <td>5.7</td>\n",
       "      <td>3.8</td>\n",
       "      <td>1.7</td>\n",
       "      <td>0.3</td>\n",
       "    </tr>\n",
       "  </tbody>\n",
       "</table>\n",
       "</div>"
      ],
      "text/plain": [
       "   SepalLength  SepalWidth  PetalLength  PetalWidth\n",
       "0          6.4         2.8          5.6         2.2\n",
       "1          5.0         2.3          3.3         1.0\n",
       "2          4.9         2.5          4.5         1.7\n",
       "3          4.9         3.1          1.5         0.1\n",
       "4          5.7         3.8          1.7         0.3"
      ]
     },
     "execution_count": 9,
     "metadata": {},
     "output_type": "execute_result"
    }
   ],
   "source": [
    "train_y = train.pop('Species')\n",
    "test_y = test.pop('Species')\n",
    "\n",
    "train.head()"
   ]
  },
  {
   "cell_type": "code",
   "execution_count": 11,
   "id": "0517650d-9069-433d-9802-b467c187e3cb",
   "metadata": {},
   "outputs": [
    {
     "data": {
      "text/plain": [
       "(120, 4)"
      ]
     },
     "execution_count": 11,
     "metadata": {},
     "output_type": "execute_result"
    }
   ],
   "source": [
    "train.shape"
   ]
  },
  {
   "cell_type": "code",
   "execution_count": 13,
   "id": "245cde7f-841b-4165-b933-ea7d6bdb3cb8",
   "metadata": {},
   "outputs": [],
   "source": [
    "def input_fn(features, labels, training=True, batch_size=256):\n",
    "    dataset = tf.data.Dataset.from_tensor_slices((dict(features), labels))\n",
    "    if training:\n",
    "        dataset = dataset.shuffle(1000).repeat()\n",
    "\n",
    "    return dataset.batch(batch_size)"
   ]
  },
  {
   "cell_type": "code",
   "execution_count": 15,
   "id": "33384c26-bdd6-4379-a448-be0bdb490f89",
   "metadata": {},
   "outputs": [],
   "source": [
    "my_feature_columns = []\n",
    "for key in train.keys():\n",
    "    my_feature_columns.append(tf.feature_column.numeric_column(key=key))"
   ]
  },
  {
   "cell_type": "code",
   "execution_count": 17,
   "id": "80295d88-64ba-4a2d-85e5-7a19df345419",
   "metadata": {},
   "outputs": [
    {
     "name": "stdout",
     "output_type": "stream",
     "text": [
      "INFO:tensorflow:Using default config.\n",
      "WARNING:tensorflow:Using temporary folder as model directory: C:\\Users\\user\\AppData\\Local\\Temp\\tmpzsggb20v\n",
      "INFO:tensorflow:Using config: {'_model_dir': 'C:\\\\Users\\\\user\\\\AppData\\\\Local\\\\Temp\\\\tmpzsggb20v', '_tf_random_seed': None, '_save_summary_steps': 100, '_save_checkpoints_steps': None, '_save_checkpoints_secs': 600, '_session_config': allow_soft_placement: true\n",
      "graph_options {\n",
      "  rewrite_options {\n",
      "    meta_optimizer_iterations: ONE\n",
      "  }\n",
      "}\n",
      ", '_keep_checkpoint_max': 5, '_keep_checkpoint_every_n_hours': 10000, '_log_step_count_steps': 100, '_train_distribute': None, '_device_fn': None, '_protocol': None, '_eval_distribute': None, '_experimental_distribute': None, '_experimental_max_worker_delay_secs': None, '_session_creation_timeout_secs': 7200, '_checkpoint_save_graph_def': True, '_service': None, '_cluster_spec': ClusterSpec({}), '_task_type': 'worker', '_task_id': 0, '_global_id_in_cluster': 0, '_master': '', '_evaluation_master': '', '_is_chief': True, '_num_ps_replicas': 0, '_num_worker_replicas': 1}\n"
     ]
    }
   ],
   "source": [
    "classifier = tf.estimator.DNNClassifier(\n",
    "    feature_columns=my_feature_columns,\n",
    "    hidden_units=[30, 10],\n",
    "    n_classes=3)"
   ]
  },
  {
   "cell_type": "code",
   "execution_count": 19,
   "id": "e2618683-6a1f-48df-bcb6-2212a228bf94",
   "metadata": {},
   "outputs": [
    {
     "name": "stdout",
     "output_type": "stream",
     "text": [
      "WARNING:tensorflow:From C:\\Users\\user\\anaconda3\\envs\\tensorflow\\lib\\site-packages\\tensorflow\\python\\training\\training_util.py:396: Variable.initialized_value (from tensorflow.python.ops.variables) is deprecated and will be removed in a future version.\n",
      "Instructions for updating:\n",
      "Use Variable.read_value. Variables in 2.X are initialized automatically both in eager and graph (inside tf.defun) contexts.\n",
      "INFO:tensorflow:Calling model_fn.\n",
      "WARNING:tensorflow:From C:\\Users\\user\\anaconda3\\envs\\tensorflow\\lib\\site-packages\\keras\\optimizers\\optimizer_v2\\adagrad.py:90: calling Constant.__init__ (from tensorflow.python.ops.init_ops) with dtype is deprecated and will be removed in a future version.\n",
      "Instructions for updating:\n",
      "Call initializer instance with the dtype argument instead of passing it to the constructor\n",
      "INFO:tensorflow:Done calling model_fn.\n",
      "INFO:tensorflow:Create CheckpointSaverHook.\n",
      "INFO:tensorflow:Graph was finalized.\n",
      "INFO:tensorflow:Running local_init_op.\n",
      "INFO:tensorflow:Done running local_init_op.\n",
      "INFO:tensorflow:Calling checkpoint listeners before saving checkpoint 0...\n",
      "INFO:tensorflow:Saving checkpoints for 0 into C:\\Users\\user\\AppData\\Local\\Temp\\tmpzsggb20v\\model.ckpt.\n",
      "INFO:tensorflow:Calling checkpoint listeners after saving checkpoint 0...\n",
      "INFO:tensorflow:loss = 1.2788445, step = 0\n",
      "INFO:tensorflow:global_step/sec: 123.456\n",
      "INFO:tensorflow:loss = 1.0125915, step = 100 (0.815 sec)\n",
      "INFO:tensorflow:global_step/sec: 190.477\n",
      "INFO:tensorflow:loss = 0.95778537, step = 200 (0.520 sec)\n",
      "INFO:tensorflow:global_step/sec: 203.253\n",
      "INFO:tensorflow:loss = 0.92834157, step = 300 (0.500 sec)\n",
      "INFO:tensorflow:global_step/sec: 159.999\n",
      "INFO:tensorflow:loss = 0.9026702, step = 400 (0.621 sec)\n",
      "INFO:tensorflow:global_step/sec: 208.768\n",
      "INFO:tensorflow:loss = 0.89109886, step = 500 (0.475 sec)\n",
      "INFO:tensorflow:global_step/sec: 183.825\n",
      "INFO:tensorflow:loss = 0.85589457, step = 600 (0.550 sec)\n",
      "INFO:tensorflow:global_step/sec: 119.76\n",
      "INFO:tensorflow:loss = 0.8509151, step = 700 (0.835 sec)\n",
      "INFO:tensorflow:global_step/sec: 126.263\n",
      "INFO:tensorflow:loss = 0.81875384, step = 800 (0.788 sec)\n",
      "INFO:tensorflow:global_step/sec: 152.905\n",
      "INFO:tensorflow:loss = 0.79960465, step = 900 (0.652 sec)\n",
      "INFO:tensorflow:global_step/sec: 182.149\n",
      "INFO:tensorflow:loss = 0.78504086, step = 1000 (0.551 sec)\n",
      "INFO:tensorflow:global_step/sec: 231.479\n",
      "INFO:tensorflow:loss = 0.7646818, step = 1100 (0.431 sec)\n",
      "INFO:tensorflow:global_step/sec: 234.742\n",
      "INFO:tensorflow:loss = 0.74496543, step = 1200 (0.427 sec)\n",
      "INFO:tensorflow:global_step/sec: 226.76\n",
      "INFO:tensorflow:loss = 0.74445516, step = 1300 (0.440 sec)\n",
      "INFO:tensorflow:global_step/sec: 175.129\n",
      "INFO:tensorflow:loss = 0.710408, step = 1400 (0.572 sec)\n",
      "INFO:tensorflow:global_step/sec: 213.222\n",
      "INFO:tensorflow:loss = 0.71519184, step = 1500 (0.469 sec)\n",
      "INFO:tensorflow:global_step/sec: 197.237\n",
      "INFO:tensorflow:loss = 0.69825923, step = 1600 (0.511 sec)\n",
      "INFO:tensorflow:global_step/sec: 173.011\n",
      "INFO:tensorflow:loss = 0.676506, step = 1700 (0.575 sec)\n",
      "INFO:tensorflow:global_step/sec: 181.489\n",
      "INFO:tensorflow:loss = 0.67457193, step = 1800 (0.548 sec)\n",
      "INFO:tensorflow:global_step/sec: 193.424\n",
      "INFO:tensorflow:loss = 0.6602473, step = 1900 (0.518 sec)\n",
      "INFO:tensorflow:global_step/sec: 220.264\n",
      "INFO:tensorflow:loss = 0.6640967, step = 2000 (0.453 sec)\n",
      "INFO:tensorflow:global_step/sec: 133.51\n",
      "INFO:tensorflow:loss = 0.64965606, step = 2100 (0.751 sec)\n",
      "INFO:tensorflow:global_step/sec: 145.561\n",
      "INFO:tensorflow:loss = 0.6416626, step = 2200 (0.686 sec)\n",
      "INFO:tensorflow:global_step/sec: 168.632\n",
      "INFO:tensorflow:loss = 0.6384532, step = 2300 (0.596 sec)\n",
      "INFO:tensorflow:global_step/sec: 169.205\n",
      "INFO:tensorflow:loss = 0.6238053, step = 2400 (0.593 sec)\n",
      "INFO:tensorflow:global_step/sec: 176.059\n",
      "INFO:tensorflow:loss = 0.61393166, step = 2500 (0.564 sec)\n",
      "INFO:tensorflow:global_step/sec: 227.272\n",
      "INFO:tensorflow:loss = 0.61078995, step = 2600 (0.439 sec)\n",
      "INFO:tensorflow:global_step/sec: 226.244\n",
      "INFO:tensorflow:loss = 0.5987028, step = 2700 (0.441 sec)\n",
      "INFO:tensorflow:global_step/sec: 223.705\n",
      "INFO:tensorflow:loss = 0.5783696, step = 2800 (0.447 sec)\n",
      "INFO:tensorflow:global_step/sec: 222.232\n",
      "INFO:tensorflow:loss = 0.5757418, step = 2900 (0.452 sec)\n",
      "INFO:tensorflow:global_step/sec: 221.235\n",
      "INFO:tensorflow:loss = 0.5782285, step = 3000 (0.451 sec)\n",
      "INFO:tensorflow:global_step/sec: 218.342\n",
      "INFO:tensorflow:loss = 0.5914068, step = 3100 (0.460 sec)\n",
      "INFO:tensorflow:global_step/sec: 196.08\n",
      "INFO:tensorflow:loss = 0.5638813, step = 3200 (0.509 sec)\n",
      "INFO:tensorflow:global_step/sec: 175.13\n",
      "INFO:tensorflow:loss = 0.5694584, step = 3300 (0.576 sec)\n",
      "INFO:tensorflow:global_step/sec: 172.118\n",
      "INFO:tensorflow:loss = 0.5625807, step = 3400 (0.575 sec)\n",
      "INFO:tensorflow:global_step/sec: 216.919\n",
      "INFO:tensorflow:loss = 0.57225263, step = 3500 (0.460 sec)\n",
      "INFO:tensorflow:global_step/sec: 215.518\n",
      "INFO:tensorflow:loss = 0.5463112, step = 3600 (0.465 sec)\n",
      "INFO:tensorflow:global_step/sec: 220.749\n",
      "INFO:tensorflow:loss = 0.536643, step = 3700 (0.453 sec)\n",
      "INFO:tensorflow:global_step/sec: 214.133\n",
      "INFO:tensorflow:loss = 0.5551936, step = 3800 (0.467 sec)\n",
      "INFO:tensorflow:global_step/sec: 219.78\n",
      "INFO:tensorflow:loss = 0.54498065, step = 3900 (0.455 sec)\n",
      "INFO:tensorflow:global_step/sec: 192.678\n",
      "INFO:tensorflow:loss = 0.5193461, step = 4000 (0.523 sec)\n",
      "INFO:tensorflow:global_step/sec: 205.761\n",
      "INFO:tensorflow:loss = 0.53038824, step = 4100 (0.483 sec)\n",
      "INFO:tensorflow:global_step/sec: 169.78\n",
      "INFO:tensorflow:loss = 0.51675385, step = 4200 (0.587 sec)\n",
      "INFO:tensorflow:global_step/sec: 205.762\n",
      "INFO:tensorflow:loss = 0.52455795, step = 4300 (0.489 sec)\n",
      "INFO:tensorflow:global_step/sec: 167.504\n",
      "INFO:tensorflow:loss = 0.5131222, step = 4400 (0.596 sec)\n",
      "INFO:tensorflow:global_step/sec: 210.526\n",
      "INFO:tensorflow:loss = 0.513925, step = 4500 (0.475 sec)\n",
      "INFO:tensorflow:global_step/sec: 193.796\n",
      "INFO:tensorflow:loss = 0.48859084, step = 4600 (0.517 sec)\n",
      "INFO:tensorflow:global_step/sec: 204.085\n",
      "INFO:tensorflow:loss = 0.48511738, step = 4700 (0.489 sec)\n",
      "INFO:tensorflow:global_step/sec: 166.944\n",
      "INFO:tensorflow:loss = 0.47546732, step = 4800 (0.598 sec)\n",
      "INFO:tensorflow:global_step/sec: 106.952\n",
      "INFO:tensorflow:loss = 0.47984535, step = 4900 (0.935 sec)\n",
      "INFO:tensorflow:Calling checkpoint listeners before saving checkpoint 5000...\n",
      "INFO:tensorflow:Saving checkpoints for 5000 into C:\\Users\\user\\AppData\\Local\\Temp\\tmpzsggb20v\\model.ckpt.\n",
      "INFO:tensorflow:Calling checkpoint listeners after saving checkpoint 5000...\n",
      "INFO:tensorflow:Loss for final step: 0.4621961.\n"
     ]
    },
    {
     "data": {
      "text/plain": [
       "<tensorflow_estimator.python.estimator.canned.dnn.DNNClassifierV2 at 0x1fa24c014b0>"
      ]
     },
     "execution_count": 19,
     "metadata": {},
     "output_type": "execute_result"
    }
   ],
   "source": [
    "classifier.train(\n",
    "    input_fn=lambda: input_fn(train, train_y, training=True),\n",
    "    steps=5000)"
   ]
  },
  {
   "cell_type": "code",
   "execution_count": 21,
   "id": "d6ae81ac-a7be-44dd-bb11-474b00d15bc6",
   "metadata": {},
   "outputs": [
    {
     "name": "stdout",
     "output_type": "stream",
     "text": [
      "INFO:tensorflow:Calling model_fn.\n",
      "INFO:tensorflow:Done calling model_fn.\n",
      "INFO:tensorflow:Starting evaluation at 2025-02-13T23:58:57\n",
      "INFO:tensorflow:Graph was finalized.\n",
      "INFO:tensorflow:Restoring parameters from C:\\Users\\user\\AppData\\Local\\Temp\\tmpzsggb20v\\model.ckpt-5000\n",
      "INFO:tensorflow:Running local_init_op.\n",
      "INFO:tensorflow:Done running local_init_op.\n",
      "INFO:tensorflow:Inference Time : 5.76900s\n",
      "INFO:tensorflow:Finished evaluation at 2025-02-13-23:59:03\n",
      "INFO:tensorflow:Saving dict for global step 5000: accuracy = 0.56666666, average_loss = 0.57881486, global_step = 5000, loss = 0.57881486\n",
      "INFO:tensorflow:Saving 'checkpoint_path' summary for global step 5000: C:\\Users\\user\\AppData\\Local\\Temp\\tmpzsggb20v\\model.ckpt-5000\n",
      "\n",
      "Test set accuracy: 0.567\n",
      "\n"
     ]
    }
   ],
   "source": [
    "eval_result = classifier.evaluate(\n",
    "    input_fn=lambda: input_fn(test, test_y, training=False))\n",
    "\n",
    "print('\\nTest set accuracy: {accuracy:0.3f}\\n'.format(**eval_result))"
   ]
  },
  {
   "cell_type": "code",
   "execution_count": null,
   "id": "8d2a28e7-6aa4-469a-915b-d8ec2b00056a",
   "metadata": {},
   "outputs": [],
   "source": []
  }
 ],
 "metadata": {
  "kernelspec": {
   "display_name": "Python [conda env:tensorflow]",
   "language": "python",
   "name": "conda-env-tensorflow-py"
  },
  "language_info": {
   "codemirror_mode": {
    "name": "ipython",
    "version": 3
   },
   "file_extension": ".py",
   "mimetype": "text/x-python",
   "name": "python",
   "nbconvert_exporter": "python",
   "pygments_lexer": "ipython3",
   "version": "3.10.13"
  }
 },
 "nbformat": 4,
 "nbformat_minor": 5
}
